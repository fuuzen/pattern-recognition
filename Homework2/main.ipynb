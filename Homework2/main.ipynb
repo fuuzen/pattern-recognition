{
 "cells": [
  {
   "cell_type": "code",
   "execution_count": null,
   "id": "ecbec4b8",
   "metadata": {},
   "outputs": [],
   "source": [
    "import torch\n",
    "import h5py\n",
    "from pca import pca\n",
    "from lda import lda\n",
    "from load import load_and_split_data\n",
    "from plot import plot_eigenfaces, plot_2d_data\n",
    "\n",
    "reduced_dims = range(1, 9)\n",
    "\n",
    "import torch.multiprocessing as mp\n",
    "mp.set_start_method('spawn', force=True)\n",
    "\n",
    "# 加载数据\n",
    "train_data, test_data, train_label, test_label = load_and_split_data()\n",
    "\n",
    "if torch.cuda.is_available():\n",
    "  train_data = train_data.cuda()\n",
    "  test_data = test_data.cuda()"
   ]
  },
  {
   "cell_type": "code",
   "execution_count": null,
   "id": "115855ac",
   "metadata": {},
   "outputs": [],
   "source": [
    "# 学习PCA投影矩阵\n",
    "pca_components, pca_ratio = pca(train_data, n_components=8)\n",
    "\n",
    "# 显示PCA特征脸\n",
    "plot_eigenfaces(pca_components, \"PCA Eigenfaces (First 8 Components)\")"
   ]
  },
  {
   "cell_type": "code",
   "execution_count": null,
   "id": "53ad4e3b",
   "metadata": {},
   "outputs": [],
   "source": [
    "# 学习LDA投影矩阵\n",
    "lda_components, lda_ratio = lda(train_data, train_label, n_components=8)\n",
    "\n",
    "# 显示LDA Fisher脸\n",
    "plot_eigenfaces(lda_components, \"LDA Fisherfaces (First 8 Components)\")"
   ]
  },
  {
   "cell_type": "code",
   "execution_count": null,
   "id": "879577f5",
   "metadata": {},
   "outputs": [],
   "source": [
    "# PCA降维\n",
    "pca_components_2d, _ = pca(train_data, n_components=2)\n",
    "\n",
    "train_pca_2d = (train_data - torch.mean(train_data, axis=0)) @ pca_components_2d\n",
    "\n",
    "plot_2d_data(train_pca_2d, train_label, \"PCA Projection (Training Data, 2D)\")\n",
    "\n",
    "test_pca_2d = (test_data - torch.mean(train_data, axis=0)) @ pca_components_2d\n",
    "\n",
    "plot_2d_data(test_pca_2d, test_label, \"PCA Projection (Test Data, 2D)\")"
   ]
  },
  {
   "cell_type": "code",
   "execution_count": null,
   "id": "61229782",
   "metadata": {},
   "outputs": [],
   "source": [
    "# LDA降维\n",
    "lda_components_2d, _ = lda(train_data, train_label, n_components=2)\n",
    "\n",
    "train_lda_2d = train_data @ lda_components_2d\n",
    "\n",
    "plot_2d_data(train_lda_2d, train_label, \"LDA Projection (Training Data, 2D)\")\n",
    "\n",
    "test_lda_2d = test_data @ lda_components_2d\n",
    "\n",
    "plot_2d_data(test_lda_2d, test_label, \"LDA Projection (Test Data, 2D)\")"
   ]
  },
  {
   "cell_type": "code",
   "execution_count": null,
   "id": "3f07ce1c",
   "metadata": {},
   "outputs": [],
   "source": [
    "with h5py.File(\"reduced_data/pca.h5\", \"w\") as f:\n",
    "  for dim in reduced_dims:\n",
    "    pca_components, _ = pca(train_data, n_components=dim)\n",
    "    train_pca = (train_data - torch.mean(train_data, axis=0)) @ pca_components\n",
    "    test_pca = (test_data - torch.mean(train_data, axis=0)) @ pca_components\n",
    "    grp = f.create_group(f\"dim_{dim}\")\n",
    "    grp.create_dataset(\"train\", data=train_pca.cpu())\n",
    "    grp.create_dataset(\"test\", data=test_pca.cpu())\n",
    "\n",
    "print(\"PCA reduced data saved to reduced_data/pca.h5\")\n",
    "\n",
    "with h5py.File(\"reduced_data/lda.h5\", \"w\") as f:\n",
    "  for dim in reduced_dims:\n",
    "    lda_components, _ = lda(train_data, train_label, n_components=dim)\n",
    "    train_pca = train_data @ lda_components\n",
    "    test_pca = test_data @ lda_components\n",
    "    grp = f.create_group(f\"dim_{dim}\")\n",
    "    grp.create_dataset(\"train\", data=train_pca.cpu())\n",
    "    grp.create_dataset(\"test\", data=test_pca.cpu())\n",
    "\n",
    "print(\"LDA reduced data saved to reduced_data/lda.h5\")"
   ]
  },
  {
   "cell_type": "code",
   "execution_count": null,
   "id": "c3d1949a",
   "metadata": {},
   "outputs": [],
   "source": [
    "from plot import plot_accuracy_reduced_dim\n",
    "from knn import KNN\n",
    "from svm import SVM\n",
    "import h5py\n",
    "\n",
    "def cal_accuracies(reduced_data, classifier):\n",
    "  accuracies = []\n",
    "  with h5py.File(reduced_data, \"r\") as f:\n",
    "    for dim in reduced_dims:\n",
    "      train_data = torch.from_numpy(f[f\"dim_{dim}/train\"][:]).float()\n",
    "      test_data = torch.from_numpy(f[f\"dim_{dim}/test\"][:]).float()\n",
    "      if torch.cuda.is_available():\n",
    "        train_data = train_data.cuda()\n",
    "        test_data = test_data.cuda()\n",
    "      classifier.fit(train_data, train_label)\n",
    "      accuracy = classifier.evaluate(test_data, test_label)\n",
    "      accuracies.append(accuracy)\n",
    "    return accuracies\n",
    "\n",
    "knn = KNN(k=3)\n",
    "svm = SVM()\n",
    "reduced_dims = range(1, 9)\n",
    "\n",
    "plot_accuracy_reduced_dim(\n",
    "  reduced_dims,\n",
    "  [\n",
    "    cal_accuracies(\"reduced_data/pca.h5\", knn),\n",
    "    cal_accuracies(\"reduced_data/lda.h5\", knn),\n",
    "    cal_accuracies(\"reduced_data/pca.h5\", svm),\n",
    "    cal_accuracies(\"reduced_data/lda.h5\", svm),\n",
    "  ],\n",
    "  [\n",
    "    \"KNN with PCA reduced\",\n",
    "    \"KNN with LDA reduced\",\n",
    "    \"SVM with PCA reduced\",\n",
    "    \"SVM with LDA reduced\",\n",
    "  ],\n",
    ")\n"
   ]
  }
 ],
 "metadata": {
  "kernelspec": {
   "display_name": "py3.12",
   "language": "python",
   "name": "python3"
  },
  "language_info": {
   "codemirror_mode": {
    "name": "ipython",
    "version": 3
   },
   "file_extension": ".py",
   "mimetype": "text/x-python",
   "name": "python",
   "nbconvert_exporter": "python",
   "pygments_lexer": "ipython3",
   "version": "3.12.3"
  }
 },
 "nbformat": 4,
 "nbformat_minor": 5
}
